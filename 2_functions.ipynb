{
 "cells": [
  {
   "cell_type": "markdown",
   "id": "5339d850-3dfd-4baf-9874-02b4b6016fd1",
   "metadata": {},
   "source": [
    "# Functions: \n",
    "They make code chunks reusable. \n",
    "Depending on the programs, functional programming: you define functions --> code is more readable.\n",
    "Structured way of how to solve a program."
   ]
  },
  {
   "cell_type": "code",
   "execution_count": 1,
   "id": "2f5fb57c-7949-47f8-94a3-5a66a1ad3554",
   "metadata": {
    "tags": []
   },
   "outputs": [],
   "source": [
    "# Let's define our first function that takes a number and adds one to it.\n",
    "def add_one(number):\n",
    "    \n",
    "    # Add one to number\n",
    "    number_plus_one = number + 1\n",
    "    \n",
    "    # Return result\n",
    "    return number_plus_one"
   ]
  },
  {
   "cell_type": "code",
   "execution_count": 2,
   "id": "46d95a3a-042d-4939-baa0-d599c3363bb0",
   "metadata": {
    "tags": []
   },
   "outputs": [
    {
     "data": {
      "text/plain": [
       "6"
      ]
     },
     "execution_count": 2,
     "metadata": {},
     "output_type": "execute_result"
    }
   ],
   "source": [
    "add_one(5)"
   ]
  },
  {
   "cell_type": "code",
   "execution_count": 3,
   "id": "24e12219-6107-455e-a904-f7840a3e5667",
   "metadata": {
    "tags": []
   },
   "outputs": [],
   "source": [
    "#Let's define another function\n",
    "def add_one_str(number):\n",
    "    \n",
    "    #Add one to number\n",
    "    number_plus_one = number + 1\n",
    "    \n",
    "    # Print results\n",
    "    print(number_plus_one)"
   ]
  },
  {
   "cell_type": "code",
   "execution_count": 13,
   "id": "b71c0e17-502c-4a5b-977e-31508def2558",
   "metadata": {
    "tags": []
   },
   "outputs": [
    {
     "data": {
      "text/plain": [
       "6"
      ]
     },
     "execution_count": 13,
     "metadata": {},
     "output_type": "execute_result"
    }
   ],
   "source": [
    "x = add_one(5)"
   ]
  },
  {
   "cell_type": "code",
   "execution_count": 14,
   "id": "a61b452a-2b79-412a-be3b-bdc7bb1e4700",
   "metadata": {
    "tags": []
   },
   "outputs": [
    {
     "name": "stdout",
     "output_type": "stream",
     "text": [
      "6\n"
     ]
    }
   ],
   "source": [
    "y = add_one_str(5)"
   ]
  },
  {
   "cell_type": "code",
   "execution_count": 9,
   "id": "83112afe-b2ba-4b35-aabe-88c1a8636dcf",
   "metadata": {
    "tags": []
   },
   "outputs": [
    {
     "data": {
      "text/plain": [
       "function"
      ]
     },
     "execution_count": 9,
     "metadata": {},
     "output_type": "execute_result"
    }
   ],
   "source": [
    "type(add_one_str)"
   ]
  },
  {
   "cell_type": "code",
   "execution_count": 10,
   "id": "96e95ee6-d03a-4440-8fd3-4de6384f422d",
   "metadata": {
    "tags": []
   },
   "outputs": [
    {
     "name": "stdout",
     "output_type": "stream",
     "text": [
      "6\n"
     ]
    },
    {
     "data": {
      "text/plain": [
       "NoneType"
      ]
     },
     "execution_count": 10,
     "metadata": {},
     "output_type": "execute_result"
    }
   ],
   "source": [
    "type(add_one_str(5))"
   ]
  },
  {
   "cell_type": "code",
   "execution_count": 15,
   "id": "5684372b-125e-413b-a0fb-118f70b4d2a9",
   "metadata": {
    "tags": []
   },
   "outputs": [
    {
     "name": "stdout",
     "output_type": "stream",
     "text": [
      "6 None\n"
     ]
    }
   ],
   "source": [
    "print(x, y)"
   ]
  },
  {
   "cell_type": "code",
   "execution_count": 18,
   "id": "12871e1b-14c3-4a06-8a7d-4cf8a0107453",
   "metadata": {
    "tags": []
   },
   "outputs": [],
   "source": [
    "# General structure of functions\n",
    "# def func_name(input1, input2, ..., inputN):\n",
    "\n",
    "    #function body\n",
    "    \n",
    "   # return result"
   ]
  },
  {
   "cell_type": "code",
   "execution_count": 19,
   "id": "ac14cbe1-7309-4949-8aa0-3722c64ef507",
   "metadata": {
    "tags": []
   },
   "outputs": [],
   "source": [
    "# Functions return more than one output\n",
    "def add_one_return_both(num1):\n",
    "    \n",
    "    # Add one to num1\n",
    "    num2 = num1 + 1\n",
    "    \n",
    "    return num1, num2"
   ]
  },
  {
   "cell_type": "code",
   "execution_count": 23,
   "id": "dba8c590-344d-4534-9816-b6e23dba594d",
   "metadata": {
    "tags": []
   },
   "outputs": [
    {
     "name": "stdout",
     "output_type": "stream",
     "text": [
      "5 6\n"
     ]
    }
   ],
   "source": [
    "x, y = add_one_return_both(5)\n",
    "print(x, y)"
   ]
  },
  {
   "cell_type": "code",
   "execution_count": 25,
   "id": "3782bdca-2f0a-4a90-ad19-7dfc79dbdb24",
   "metadata": {
    "tags": []
   },
   "outputs": [],
   "source": [
    "# Functions can have two inputs and default values!\n",
    "\n",
    "def num_pow(num, exponent=2):\n",
    "    \n",
    "    return num ** exponent"
   ]
  },
  {
   "cell_type": "code",
   "execution_count": 26,
   "id": "d218de36-8f85-42f2-8270-080207563bdf",
   "metadata": {
    "tags": []
   },
   "outputs": [
    {
     "data": {
      "text/plain": [
       "4"
      ]
     },
     "execution_count": 26,
     "metadata": {},
     "output_type": "execute_result"
    }
   ],
   "source": [
    "num_pow(2)"
   ]
  },
  {
   "cell_type": "code",
   "execution_count": 28,
   "id": "22497b98-a9f9-4892-911c-5caee9fa6459",
   "metadata": {
    "tags": []
   },
   "outputs": [
    {
     "data": {
      "text/plain": [
       "8"
      ]
     },
     "execution_count": 28,
     "metadata": {},
     "output_type": "execute_result"
    }
   ],
   "source": [
    "#Python will understand that the exponent in this case is not 2, but 3. The number we give in the statement.\n",
    "\n",
    "num_pow(2,3)"
   ]
  },
  {
   "cell_type": "code",
   "execution_count": 37,
   "id": "eaab4b2a-c0cb-4eb1-a25d-96bd4f171b11",
   "metadata": {
    "tags": []
   },
   "outputs": [],
   "source": [
    "# Positional vs keyword arguments:\n",
    "\n",
    "def subtract(num1, num2):\n",
    "    return num1-num2"
   ]
  },
  {
   "cell_type": "code",
   "execution_count": 38,
   "id": "8b1cc3a9-6bb8-4145-a8c8-51b92328e2ad",
   "metadata": {
    "tags": []
   },
   "outputs": [
    {
     "data": {
      "text/plain": [
       "3"
      ]
     },
     "execution_count": 38,
     "metadata": {},
     "output_type": "execute_result"
    }
   ],
   "source": [
    "# Use positional arguments:\n",
    "subtract (5,2)"
   ]
  },
  {
   "cell_type": "code",
   "execution_count": 39,
   "id": "7ad3d752-8c5b-4624-b884-5c2d2ad63170",
   "metadata": {
    "tags": []
   },
   "outputs": [
    {
     "data": {
      "text/plain": [
       "-3"
      ]
     },
     "execution_count": 39,
     "metadata": {},
     "output_type": "execute_result"
    }
   ],
   "source": [
    "subtract(2,5)"
   ]
  },
  {
   "cell_type": "code",
   "execution_count": 43,
   "id": "472005bd-f067-4ba7-86ec-dbe9f746acea",
   "metadata": {
    "tags": []
   },
   "outputs": [
    {
     "data": {
      "text/plain": [
       "True"
      ]
     },
     "execution_count": 43,
     "metadata": {},
     "output_type": "execute_result"
    }
   ],
   "source": [
    "# I can swap arguments if I use the parameter names\n",
    "\n",
    "subtract(num2=2, num1=5) == subtract (5,2)"
   ]
  },
  {
   "cell_type": "code",
   "execution_count": 52,
   "id": "2968fd1c-4862-48b5-87a6-af5931131f2c",
   "metadata": {
    "tags": []
   },
   "outputs": [],
   "source": [
    "# Functions can take a variable number of arguments\n",
    "\n",
    "def add_all_numbers(*numbers):\n",
    "    \n",
    "    # What is the object type of *numbers?\n",
    "    print(type(numbers))\n",
    "    \n",
    "    #Initialize counter that collect sum of numbers\n",
    "    total = 0\n",
    "    \n",
    "    # Add up all numbers (without knowing exactly how many number there are)\n",
    "    for nr in numbers:\n",
    "        total += nr\n",
    "        \n",
    "    return total"
   ]
  },
  {
   "cell_type": "code",
   "execution_count": 56,
   "id": "508a931d-398a-48e7-ac59-a7a3c7946bc5",
   "metadata": {
    "tags": []
   },
   "outputs": [
    {
     "name": "stdout",
     "output_type": "stream",
     "text": [
      "<class 'tuple'>\n",
      "6\n",
      "<class 'tuple'>\n",
      "21\n"
     ]
    }
   ],
   "source": [
    "print(add_all_numbers(1, 2, 3))\n",
    "print(add_all_numbers(1, 2, 3, 4, 5, 6))"
   ]
  },
  {
   "cell_type": "code",
   "execution_count": null,
   "id": "255c7d08-c9b5-442b-98cc-91997c686ed4",
   "metadata": {},
   "outputs": [],
   "source": []
  }
 ],
 "metadata": {
  "kernelspec": {
   "display_name": "Python 3 (ipykernel)",
   "language": "python",
   "name": "python3"
  },
  "language_info": {
   "codemirror_mode": {
    "name": "ipython",
    "version": 3
   },
   "file_extension": ".py",
   "mimetype": "text/x-python",
   "name": "python",
   "nbconvert_exporter": "python",
   "pygments_lexer": "ipython3",
   "version": "3.11.4"
  }
 },
 "nbformat": 4,
 "nbformat_minor": 5
}
