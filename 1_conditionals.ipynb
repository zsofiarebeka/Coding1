{
 "cells": [
  {
   "cell_type": "markdown",
   "id": "b5900823-3f5e-4c6b-991a-f6c60aff5cd1",
   "metadata": {},
   "source": [
    "# Unit 1: Conditionals\n",
    "\n",
    "1. Logical operators\n",
    "2. Conditional statements: the `if` statement\n",
    "3. Control flows\n",
    "- `for` loops\n",
    "- `while` loops\n",
    "- `list` comprehension"
   ]
  },
  {
   "cell_type": "markdown",
   "id": "3b6b25a4-09ff-4d89-bc1e-ad24a0d28e7b",
   "metadata": {
    "tags": []
   },
   "source": [
    "### Logical operators\n",
    "This is how we define conditions for `if` statements. They evaluate to `True` or `False`."
   ]
  },
  {
   "cell_type": "code",
   "execution_count": 2,
   "id": "6f346d9c-f92c-4fb5-b713-7e4ad20649a1",
   "metadata": {
    "tags": []
   },
   "outputs": [
    {
     "data": {
      "text/plain": [
       "False"
      ]
     },
     "execution_count": 2,
     "metadata": {},
     "output_type": "execute_result"
    }
   ],
   "source": [
    "# Testing for equality\n",
    "5 == 2"
   ]
  },
  {
   "cell_type": "code",
   "execution_count": 3,
   "id": "dc4c02bb-d221-47f8-805e-2748eaffa735",
   "metadata": {
    "tags": []
   },
   "outputs": [
    {
     "data": {
      "text/plain": [
       "True"
      ]
     },
     "execution_count": 3,
     "metadata": {},
     "output_type": "execute_result"
    }
   ],
   "source": [
    "2 == 2"
   ]
  },
  {
   "cell_type": "code",
   "execution_count": 8,
   "id": "4a3baa1e-0c86-4f00-9a28-82729857ef59",
   "metadata": {
    "tags": []
   },
   "outputs": [
    {
     "data": {
      "text/plain": [
       "False"
      ]
     },
     "execution_count": 8,
     "metadata": {},
     "output_type": "execute_result"
    }
   ],
   "source": [
    "#Compare str to int (equality)\n",
    "'2' == 2"
   ]
  },
  {
   "cell_type": "code",
   "execution_count": 9,
   "id": "d728e091-dd4e-4bf5-977c-eafd05e461c5",
   "metadata": {
    "tags": []
   },
   "outputs": [
    {
     "ename": "TypeError",
     "evalue": "'<' not supported between instances of 'str' and 'int'",
     "output_type": "error",
     "traceback": [
      "\u001b[1;31m---------------------------------------------------------------------------\u001b[0m",
      "\u001b[1;31mTypeError\u001b[0m                                 Traceback (most recent call last)",
      "Cell \u001b[1;32mIn[9], line 2\u001b[0m\n\u001b[0;32m      1\u001b[0m \u001b[38;5;66;03m# Compare str to int (less than)\u001b[39;00m\n\u001b[1;32m----> 2\u001b[0m \u001b[38;5;124m'\u001b[39m\u001b[38;5;124m2\u001b[39m\u001b[38;5;124m'\u001b[39m \u001b[38;5;241m<\u001b[39m \u001b[38;5;241m2\u001b[39m\n",
      "\u001b[1;31mTypeError\u001b[0m: '<' not supported between instances of 'str' and 'int'"
     ]
    }
   ],
   "source": [
    "# Compare str to int (less than)\n",
    "'2' < 2"
   ]
  },
  {
   "cell_type": "code",
   "execution_count": 10,
   "id": "c5912ec3-91b7-4975-9ea3-c221a6cb78c3",
   "metadata": {
    "tags": []
   },
   "outputs": [
    {
     "data": {
      "text/plain": [
       "True"
      ]
     },
     "execution_count": 10,
     "metadata": {},
     "output_type": "execute_result"
    }
   ],
   "source": [
    "# Testing for membership\n",
    "2 in [1, 2, 3]"
   ]
  },
  {
   "cell_type": "code",
   "execution_count": 7,
   "id": "b8afffe0-1f07-40c7-8415-ffd509e1158c",
   "metadata": {
    "tags": []
   },
   "outputs": [
    {
     "data": {
      "text/plain": [
       "False"
      ]
     },
     "execution_count": 7,
     "metadata": {},
     "output_type": "execute_result"
    }
   ],
   "source": [
    "2 not in [1, 2, 3]"
   ]
  },
  {
   "cell_type": "code",
   "execution_count": 11,
   "id": "31cd9c20-b41d-4df5-8ebe-eac331d98cb1",
   "metadata": {
    "tags": []
   },
   "outputs": [
    {
     "data": {
      "text/plain": [
       "True"
      ]
     },
     "execution_count": 11,
     "metadata": {},
     "output_type": "execute_result"
    }
   ],
   "source": [
    "# Testing for inequality\n",
    "2 != 5"
   ]
  },
  {
   "cell_type": "code",
   "execution_count": 14,
   "id": "af22d023-fc77-4bf3-a84a-1991f0e597f7",
   "metadata": {
    "tags": []
   },
   "outputs": [
    {
     "data": {
      "text/plain": [
       "True"
      ]
     },
     "execution_count": 14,
     "metadata": {},
     "output_type": "execute_result"
    }
   ],
   "source": [
    "# Composite logical statements: and \n",
    "2 == 2 and 5 == 5 \n",
    "# Returns True only if both statements are true"
   ]
  },
  {
   "cell_type": "code",
   "execution_count": 15,
   "id": "293ada7d-b9dd-49a0-8d08-790df6d5904d",
   "metadata": {
    "tags": []
   },
   "outputs": [
    {
     "data": {
      "text/plain": [
       "False"
      ]
     },
     "execution_count": 15,
     "metadata": {},
     "output_type": "execute_result"
    }
   ],
   "source": [
    "2 == 2 and 4 == 5"
   ]
  },
  {
   "cell_type": "code",
   "execution_count": 17,
   "id": "7a868166-e7f7-43df-a297-e14a6b3c35f2",
   "metadata": {
    "tags": []
   },
   "outputs": [
    {
     "data": {
      "text/plain": [
       "True"
      ]
     },
     "execution_count": 17,
     "metadata": {},
     "output_type": "execute_result"
    }
   ],
   "source": [
    "# Composite logical statement: or\n",
    "2 == 2 or 5 == 5"
   ]
  },
  {
   "cell_type": "code",
   "execution_count": 18,
   "id": "fc28edfa-62e1-4872-bf41-3055b1003f4d",
   "metadata": {
    "tags": []
   },
   "outputs": [
    {
     "data": {
      "text/plain": [
       "True"
      ]
     },
     "execution_count": 18,
     "metadata": {},
     "output_type": "execute_result"
    }
   ],
   "source": [
    "2 == 2 or 4 == 5"
   ]
  },
  {
   "cell_type": "markdown",
   "id": "e777b547-ab3c-46cc-a989-6adaffcdba66",
   "metadata": {},
   "source": [
    "### Conditionals\n",
    "Conditionals have an `if-else` structure. The program performs an operation (or more) if certain conditions are met."
   ]
  },
  {
   "cell_type": "code",
   "execution_count": 2,
   "id": "87045d2d-0657-47c8-aa77-2898fb0f75b1",
   "metadata": {
    "tags": []
   },
   "outputs": [],
   "source": [
    "import random"
   ]
  },
  {
   "cell_type": "code",
   "execution_count": 17,
   "id": "85286797-7cd8-402d-a493-64aac6f6a295",
   "metadata": {
    "tags": []
   },
   "outputs": [
    {
     "name": "stdout",
     "output_type": "stream",
     "text": [
      "28\n"
     ]
    }
   ],
   "source": [
    "# Print message depending on value of random_number\n",
    "# If . is after the function, we will access that specific package. Randint is a range where we are picking a number from.\n",
    "# It'll generate a new random number each time you use randint. Randint stands for random integer.\n",
    "\n",
    "random_number = random.randint(20, 34)\n",
    "print(random_number)"
   ]
  },
  {
   "cell_type": "code",
   "execution_count": 18,
   "id": "40160354-2a68-44eb-a39c-e254dbce2adb",
   "metadata": {
    "tags": []
   },
   "outputs": [
    {
     "name": "stdout",
     "output_type": "stream",
     "text": [
      "The number is moderately high.\n"
     ]
    }
   ],
   "source": [
    "if random_number < 25:\n",
    "    print(\"The number is small.\")\n",
    "elif random_number < 30:\n",
    "    print(\"The number is moderately high.\")\n",
    "else:\n",
    "    print(\"It's a large number\")"
   ]
  },
  {
   "cell_type": "code",
   "execution_count": 24,
   "id": "e2537f65-b454-4ebd-8328-9b5f108202e7",
   "metadata": {
    "tags": []
   },
   "outputs": [],
   "source": [
    "# Nesting if statements\n",
    "random_number1 = random.randint(1,12)\n",
    "random_number2 = random.randint(1, 16)\n",
    "\n",
    "if random_number1 > 6:\n",
    "    print(\"random_number1 is large.\")\n",
    "    \n",
    "    if random_number2 > random_number1:\n",
    "        print(\"random_number2 is larger than random_number1.\")"
   ]
  },
  {
   "cell_type": "code",
   "execution_count": 37,
   "id": "4ec9f0f6-bfba-49c0-9d9a-7e43f278c703",
   "metadata": {
    "tags": []
   },
   "outputs": [],
   "source": [
    "###BEPOTOLNI AZ IN AND AND STATEMENTEKET\n",
    "\n",
    "# Nesting if statements\n",
    "random_number1 = random.randint(1,12)\n",
    "random_number2 = random.randint(1, 16)\n",
    "\n",
    "if random_number1 > 6 and random_number2 > random_number1:\n",
    "    print(\"random_number1 is large.\")\n",
    "    print(\"random_number2 is larger than random_number1.\")"
   ]
  },
  {
   "cell_type": "code",
   "execution_count": 28,
   "id": "94b0bd8a-0928-4639-8cdb-dd9e47291f4c",
   "metadata": {
    "tags": []
   },
   "outputs": [],
   "source": [
    "# Define an iterable\n",
    "my_list = ['abc', 5, 19, 88]"
   ]
  },
  {
   "cell_type": "code",
   "execution_count": 30,
   "id": "e678f4a3-1dad-41ae-bbbe-a60dd448b6f5",
   "metadata": {
    "tags": []
   },
   "outputs": [
    {
     "name": "stdout",
     "output_type": "stream",
     "text": [
      "abc\n",
      "5\n",
      "19\n",
      "88\n"
     ]
    }
   ],
   "source": [
    "# Define for loop over my_list\n",
    "\n",
    "# There is 4 iterations in my loop. \n",
    "for i in my_list:\n",
    "    print(i)"
   ]
  },
  {
   "cell_type": "code",
   "execution_count": 35,
   "id": "b8595eea-221b-4b10-8787-6a46a6dd2ee0",
   "metadata": {
    "tags": []
   },
   "outputs": [
    {
     "name": "stdout",
     "output_type": "stream",
     "text": [
      "0 is even.\n",
      "1 is odd.\n",
      "2 is even.\n",
      "3 is odd.\n",
      "4 is even.\n",
      "5 is odd.\n",
      "6 is even.\n",
      "7 is odd.\n",
      "8 is even.\n",
      "9 is odd.\n",
      "10 is even.\n",
      "11 is odd.\n",
      "12 is even.\n",
      "13 is odd.\n",
      "14 is even.\n",
      "15 is odd.\n",
      "16 is even.\n",
      "17 is odd.\n",
      "18 is even.\n",
      "19 is odd.\n"
     ]
    }
   ],
   "source": [
    "# Introduce the range() function\n",
    "# Uses the numbers from 0 to whatever we define.\n",
    "for i in range(20):\n",
    "    if i%2 == 0:\n",
    "        print(i, \"is even.\")\n",
    "    else:\n",
    "        print(i, \"is odd.\")"
   ]
  },
  {
   "cell_type": "code",
   "execution_count": 39,
   "id": "94dc3999-4fd1-414f-9a6b-4d1eb6333aac",
   "metadata": {
    "tags": []
   },
   "outputs": [
    {
     "name": "stdout",
     "output_type": "stream",
     "text": [
      "Business 8\n",
      "analytics 9\n",
      "with 4\n",
      "Python 6\n"
     ]
    }
   ],
   "source": [
    "# for loop over list with strings\n",
    "for word in [\"Business\", \"analytics\", \"with\", \"Python\"]:\n",
    "    print(word, len(word))"
   ]
  },
  {
   "cell_type": "code",
   "execution_count": 41,
   "id": "54254161-f598-46f0-aa7c-32793a92e2da",
   "metadata": {
    "tags": []
   },
   "outputs": [
    {
     "name": "stdout",
     "output_type": "stream",
     "text": [
      "Business 8\n",
      "analytics 9\n",
      "with 4\n",
      "Python 6\n"
     ]
    }
   ],
   "source": [
    "for i in [\"Business\", \"analytics\", \"with\", \"Python\"]:\n",
    "    print(i, len(i))"
   ]
  },
  {
   "cell_type": "code",
   "execution_count": 42,
   "id": "c00d4b65-a019-40dd-9cf7-b711fc0a2d5c",
   "metadata": {
    "tags": []
   },
   "outputs": [
    {
     "name": "stdout",
     "output_type": "stream",
     "text": [
      "B\n",
      "u\n",
      "s\n",
      "i\n",
      "n\n",
      "e\n",
      "s\n",
      "s\n",
      "a\n",
      "n\n",
      "a\n",
      "l\n",
      "y\n",
      "t\n",
      "i\n",
      "c\n",
      "s\n",
      "w\n",
      "i\n",
      "t\n",
      "h\n",
      "P\n",
      "y\n",
      "t\n",
      "h\n",
      "o\n",
      "n\n"
     ]
    }
   ],
   "source": [
    "for word in [\"Business\", \"analytics\", \"with\", \"Python\"]:\n",
    "    for letter in word:\n",
    "        print(letter)"
   ]
  },
  {
   "cell_type": "code",
   "execution_count": 43,
   "id": "db2a918b-e0e6-4658-84a4-5a9be790ed83",
   "metadata": {
    "tags": []
   },
   "outputs": [],
   "source": [
    "for word in [\"Business\", \"analytics\", \"with\", \"Python\"]:\n",
    "    for letter in word:\n",
    "        pass"
   ]
  },
  {
   "cell_type": "code",
   "execution_count": 49,
   "id": "201adbc2-9d89-40ec-a583-f5e24505baf2",
   "metadata": {
    "tags": []
   },
   "outputs": [
    {
     "name": "stdout",
     "output_type": "stream",
     "text": [
      "0 a\n",
      "1 b\n",
      "2 c\n"
     ]
    }
   ],
   "source": [
    "# for loop using the enumerate() function\n",
    "# Besides indexes, it also returns the element of the list.\n",
    "# It always goes as 0, 1, 2, 3 etc.\n",
    "for index, value in enumerate (['a', 'b', 'c', 'd']):\n",
    "    if index < 3:\n",
    "        print(index, value)\n",
    "    else: \n",
    "        continue"
   ]
  },
  {
   "cell_type": "code",
   "execution_count": 50,
   "id": "fa024fb0-63d7-4f7f-9be3-9e2a252d196d",
   "metadata": {
    "tags": []
   },
   "outputs": [
    {
     "name": "stdout",
     "output_type": "stream",
     "text": [
      "A\n"
     ]
    }
   ],
   "source": [
    "# using a for loop to dynamically create a list\n",
    "print(chr(65))"
   ]
  },
  {
   "cell_type": "code",
   "execution_count": 56,
   "id": "3b86962a-0fd0-4bab-9ad5-c88de3649cf4",
   "metadata": {
    "tags": []
   },
   "outputs": [
    {
     "name": "stdout",
     "output_type": "stream",
     "text": [
      "['<', '=', '>', '?', '@', 'A', 'B', 'C', 'D', 'E', 'F', 'G', 'H', 'I', 'J', 'K', 'L', 'M', 'N', 'O', 'P', 'Q', 'R', 'S', 'T', 'U', 'V', 'W', 'X', 'Y', 'Z']\n"
     ]
    }
   ],
   "source": [
    "# using a for loop to dynamically create a list\n",
    "# We always have to put x+1 as the last element of the range to include it in the list.\n",
    "\n",
    "capital_letters = []\n",
    "\n",
    "for i in range(60,91):\n",
    "    capital_letters.append(chr(i))\n",
    "    \n",
    "print(capital_letters)"
   ]
  },
  {
   "cell_type": "markdown",
   "id": "6e6c1cf0-bb1f-4def-b9a8-9e83c91557cc",
   "metadata": {},
   "source": [
    "# Loops: the \"while\" loop\n",
    "\n",
    "`while`: loops dp npt need an iterable. They use a `while` condition."
   ]
  },
  {
   "cell_type": "code",
   "execution_count": 57,
   "id": "e8ee193e-7462-4d96-bd19-a1616ce5fe24",
   "metadata": {
    "tags": []
   },
   "outputs": [],
   "source": [
    "# It continues while the conditions is true. And it stops when the statement is false."
   ]
  },
  {
   "cell_type": "code",
   "execution_count": 66,
   "id": "34ceecfe-3948-4996-81e9-05b1e91ff6a4",
   "metadata": {
    "tags": []
   },
   "outputs": [
    {
     "name": "stdout",
     "output_type": "stream",
     "text": [
      "Counter is less than 20.\n",
      "Counter is less than 20.\n",
      "Counter is less than 20.\n",
      "Counter is less than 20.\n",
      "Counter is less than 20.\n",
      "Counter is less than 20.\n",
      "Counter is less than 20.\n",
      "Counter is less than 20.\n",
      "Counter is less than 20.\n",
      "Counter is less than 20.\n",
      "Counter is less than 20.\n",
      "Counter is less than 20.\n",
      "Counter is less than 20.\n",
      "Counter is less than 20.\n",
      "Counter is less than 20.\n",
      "Counter is less than 20.\n",
      "Counter is less than 20.\n",
      "Counter is less than 20.\n",
      "Counter is less than 20.\n",
      "Counter is less than 20.\n"
     ]
    }
   ],
   "source": [
    "counter = 0\n",
    "\n",
    "while counter < 20:\n",
    "    print(\"Counter is less than 20.\")\n",
    "    counter += 1 # equivalently: counter = counter + 1\n",
    " # the C equivalent is i++.\n",
    "# The right hand side always gets evaluated first. Then left side gets evaluated.\n",
    "# While loops are not that common."
   ]
  },
  {
   "cell_type": "markdown",
   "id": "a8d45e5e-0273-45ac-bf6c-f108c5652ceb",
   "metadata": {},
   "source": [
    "### List comprehension:\n",
    "They are a handy way to generate lists."
   ]
  },
  {
   "cell_type": "code",
   "execution_count": 70,
   "id": "d898aa68-1023-4d6f-9b6e-3ba2c48407e7",
   "metadata": {
    "tags": []
   },
   "outputs": [],
   "source": [
    "# First example of a list comprehension\n",
    "squares = [x**2 for x in range(0,10)]"
   ]
  },
  {
   "cell_type": "code",
   "execution_count": 73,
   "id": "50cd0dbc-46de-4ebe-a94a-420021e4d306",
   "metadata": {
    "tags": []
   },
   "outputs": [
    {
     "data": {
      "text/plain": [
       "[0, 1, 4, 9, 16, 25, 36, 49, 64, 81]"
      ]
     },
     "execution_count": 73,
     "metadata": {},
     "output_type": "execute_result"
    }
   ],
   "source": [
    "# Check output\n",
    "squares"
   ]
  },
  {
   "cell_type": "code",
   "execution_count": 74,
   "id": "8b026d8d-4223-490f-ad14-46368504f775",
   "metadata": {
    "tags": []
   },
   "outputs": [],
   "source": [
    "# Get list os even squares from 0 to 9\n",
    "even_squares = [square for square in squares if square%2 == 0]"
   ]
  },
  {
   "cell_type": "code",
   "execution_count": 75,
   "id": "0af00731-2408-429e-9e37-d7759b270f19",
   "metadata": {
    "tags": []
   },
   "outputs": [
    {
     "data": {
      "text/plain": [
       "[0, 4, 16, 36, 64]"
      ]
     },
     "execution_count": 75,
     "metadata": {},
     "output_type": "execute_result"
    }
   ],
   "source": [
    "even_squares"
   ]
  },
  {
   "cell_type": "code",
   "execution_count": 81,
   "id": "03e086fd-652e-4ad9-b2e7-af6efe42a284",
   "metadata": {
    "tags": []
   },
   "outputs": [],
   "source": [
    "# Print is a thunder method. The print function will go inside the definition of the object.\n",
    "# Python is an object oriented language and 5 is not just a number but can mean different things, as well.\n",
    "#  __repr__ or __str__ defines the behaviour of print."
   ]
  },
  {
   "cell_type": "code",
   "execution_count": 79,
   "id": "96ce3ef5-c805-4ccd-94ee-efa306caf465",
   "metadata": {
    "tags": []
   },
   "outputs": [
    {
     "data": {
      "text/plain": [
       "['__abs__',\n",
       " '__add__',\n",
       " '__and__',\n",
       " '__bool__',\n",
       " '__ceil__',\n",
       " '__class__',\n",
       " '__delattr__',\n",
       " '__dir__',\n",
       " '__divmod__',\n",
       " '__doc__',\n",
       " '__eq__',\n",
       " '__float__',\n",
       " '__floor__',\n",
       " '__floordiv__',\n",
       " '__format__',\n",
       " '__ge__',\n",
       " '__getattribute__',\n",
       " '__getnewargs__',\n",
       " '__getstate__',\n",
       " '__gt__',\n",
       " '__hash__',\n",
       " '__index__',\n",
       " '__init__',\n",
       " '__init_subclass__',\n",
       " '__int__',\n",
       " '__invert__',\n",
       " '__le__',\n",
       " '__lshift__',\n",
       " '__lt__',\n",
       " '__mod__',\n",
       " '__mul__',\n",
       " '__ne__',\n",
       " '__neg__',\n",
       " '__new__',\n",
       " '__or__',\n",
       " '__pos__',\n",
       " '__pow__',\n",
       " '__radd__',\n",
       " '__rand__',\n",
       " '__rdivmod__',\n",
       " '__reduce__',\n",
       " '__reduce_ex__',\n",
       " '__repr__',\n",
       " '__rfloordiv__',\n",
       " '__rlshift__',\n",
       " '__rmod__',\n",
       " '__rmul__',\n",
       " '__ror__',\n",
       " '__round__',\n",
       " '__rpow__',\n",
       " '__rrshift__',\n",
       " '__rshift__',\n",
       " '__rsub__',\n",
       " '__rtruediv__',\n",
       " '__rxor__',\n",
       " '__setattr__',\n",
       " '__sizeof__',\n",
       " '__str__',\n",
       " '__sub__',\n",
       " '__subclasshook__',\n",
       " '__truediv__',\n",
       " '__trunc__',\n",
       " '__xor__',\n",
       " 'as_integer_ratio',\n",
       " 'bit_count',\n",
       " 'bit_length',\n",
       " 'conjugate',\n",
       " 'denominator',\n",
       " 'from_bytes',\n",
       " 'imag',\n",
       " 'numerator',\n",
       " 'real',\n",
       " 'to_bytes']"
      ]
     },
     "execution_count": 79,
     "metadata": {},
     "output_type": "execute_result"
    }
   ],
   "source": [
    "dir(5)"
   ]
  },
  {
   "cell_type": "code",
   "execution_count": 86,
   "id": "a6a557ae-0498-4280-8310-55b98e933e7a",
   "metadata": {
    "tags": []
   },
   "outputs": [],
   "source": [
    "# We can also use if-else statements on list comprehensions\n",
    "# Careful: different syntax!\n",
    "even_odd_srt = ['even' if square%2 == 0 else 'odd' for square in squares]"
   ]
  },
  {
   "cell_type": "code",
   "execution_count": 84,
   "id": "dd303512-92ed-4c9a-bf2b-7dc0e133bf22",
   "metadata": {
    "tags": []
   },
   "outputs": [
    {
     "data": {
      "text/plain": [
       "['even', 'odd', 'even', 'odd', 'even', 'odd', 'even', 'odd', 'even', 'odd']"
      ]
     },
     "execution_count": 84,
     "metadata": {},
     "output_type": "execute_result"
    }
   ],
   "source": [
    "even_odd_srt"
   ]
  },
  {
   "cell_type": "markdown",
   "id": "0d7986f8-3bb9-4916-b6e1-82eb50e4e947",
   "metadata": {},
   "source": []
  }
 ],
 "metadata": {
  "kernelspec": {
   "display_name": "Python 3 (ipykernel)",
   "language": "python",
   "name": "python3"
  },
  "language_info": {
   "codemirror_mode": {
    "name": "ipython",
    "version": 3
   },
   "file_extension": ".py",
   "mimetype": "text/x-python",
   "name": "python",
   "nbconvert_exporter": "python",
   "pygments_lexer": "ipython3",
   "version": "3.11.4"
  }
 },
 "nbformat": 4,
 "nbformat_minor": 5
}
